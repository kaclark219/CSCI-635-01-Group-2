{
 "cells": [
  {
   "cell_type": "markdown",
   "id": "abc6d611",
   "metadata": {},
   "source": [
    "**Imports & Setup**"
   ]
  },
  {
   "cell_type": "code",
   "execution_count": 6,
   "id": "66d534d7",
   "metadata": {},
   "outputs": [],
   "source": [
    "from pathlib import Path\n",
    "import numpy as np\n",
    "import tensorflow as tf\n",
    "from tensorflow.keras.applications import resnet50\n",
    "from sklearn.model_selection import GridSearchCV, StratifiedKFold\n",
    "from sklearn.neighbors import KNeighborsClassifier\n",
    "import pandas as pd"
   ]
  },
  {
   "cell_type": "code",
   "execution_count": 7,
   "id": "5f4e6327",
   "metadata": {},
   "outputs": [],
   "source": [
    "# directories & file paths\n",
    "TRAIN_DIR = Path(\"../../data/processed_balanced/train\")\n",
    "IMG_DIR = Path(\"../../data/processed\")\n",
    "VAL_DIR   = IMG_DIR / \"validate\"\n",
    "TEST_DIR  = IMG_DIR / \"test\"\n",
    "EXTS = (\".jpg\", \".jpeg\", \".png\", \".bmp\")\n",
    "RESULTS_DIR = Path(\"/results\")\n",
    "RESULTS_PATH = RESULTS_DIR / \"bagged_knn_results.csv\"\n",
    "EXTS = (\".jpg\", \".jpeg\", \".png\", \".bmp\")\n",
    "\n",
    "# target styles for classification\n",
    "TARGET_STYLES = [\n",
    "    \"Abstract_Expressionism\",\n",
    "    \"Baroque\",\n",
    "    \"Cubism\",\n",
    "    \"Impressionism\",\n",
    "    \"Pop_Art\"\n",
    "]\n",
    "\n",
    "# hyperparameters for knn grid search\n",
    "K_GRID = [1, 3, 5, 7, 9, 11]"
   ]
  },
  {
   "cell_type": "markdown",
   "id": "6891a5e6",
   "metadata": {},
   "source": [
    "**Extracting Features**"
   ]
  },
  {
   "cell_type": "code",
   "execution_count": 10,
   "id": "c44e995b",
   "metadata": {},
   "outputs": [
    {
     "name": "stderr",
     "output_type": "stream",
     "text": [
      "2025-10-28 20:56:15.179871: W external/local_xla/xla/tsl/framework/cpu_allocator_impl.cc:84] Allocation of 268435456 exceeds 10% of free system memory.\n",
      "2025-10-28 20:56:15.330426: W external/local_xla/xla/tsl/framework/cpu_allocator_impl.cc:84] Allocation of 276889600 exceeds 10% of free system memory.\n",
      "2025-10-28 20:56:15.442511: W external/local_xla/xla/tsl/framework/cpu_allocator_impl.cc:84] Allocation of 268435456 exceeds 10% of free system memory.\n",
      "2025-10-28 20:56:15.575881: W external/local_xla/xla/tsl/framework/cpu_allocator_impl.cc:84] Allocation of 268435456 exceeds 10% of free system memory.\n",
      "2025-10-28 20:56:15.822008: W external/local_xla/xla/tsl/framework/cpu_allocator_impl.cc:84] Allocation of 268435456 exceeds 10% of free system memory.\n"
     ]
    },
    {
     "name": "stdout",
     "output_type": "stream",
     "text": [
      "\u001b[1m235/235\u001b[0m \u001b[32m━━━━━━━━━━━━━━━━━━━━\u001b[0m\u001b[37m\u001b[0m \u001b[1m586s\u001b[0m 2s/step\n",
      "\u001b[1m75/75\u001b[0m \u001b[32m━━━━━━━━━━━━━━━━━━━━\u001b[0m\u001b[37m\u001b[0m \u001b[1m184s\u001b[0m 2s/step\n",
      "\u001b[1m75/75\u001b[0m \u001b[32m━━━━━━━━━━━━━━━━━━━━\u001b[0m\u001b[37m\u001b[0m \u001b[1m182s\u001b[0m 2s/step\n",
      "Shapes: (15000, 2048) (4760, 2048) (4761, 2048)\n"
     ]
    }
   ],
   "source": [
    "# config for data loading & feature extraction\n",
    "BATCH = 64\n",
    "AUTO  = tf.data.AUTOTUNE\n",
    "EXPECT_SIZE = (256, 256)\n",
    "STRICT_SIZE = True\n",
    "\n",
    "# mapping from class name to label index\n",
    "CLASS_TO_IDX = {c:i for i,c in enumerate(TARGET_STYLES)}\n",
    "def list_paths_labels(root: Path):\n",
    "    paths, labels = [], []\n",
    "    for cls in TARGET_STYLES:\n",
    "        cls_dir = root / cls\n",
    "        if not cls_dir.exists(): \n",
    "            continue\n",
    "        for p in sorted(cls_dir.rglob(\"*\")):\n",
    "            if p.suffix.lower() in EXTS and p.is_file():\n",
    "                paths.append(str(p))\n",
    "                labels.append(CLASS_TO_IDX[cls])\n",
    "    return np.array(paths), np.array(labels, dtype=np.int32)\n",
    "\n",
    "def decode_keep_size(path):\n",
    "    '''\n",
    "    decode image from path, keep 224 size if STRICT_SIZE is true\n",
    "    '''\n",
    "    img = tf.io.read_file(path)\n",
    "    img = tf.image.decode_image(img, channels=3, expand_animations=False)\n",
    "    img.set_shape([None, None, 3])\n",
    "    if STRICT_SIZE:\n",
    "        shape = tf.shape(img)\n",
    "        assert_op = tf.debugging.assert_equal(shape[:2], EXPECT_SIZE, message=\"Non-224 image found\")\n",
    "        with tf.control_dependencies([assert_op]):\n",
    "            img = tf.identity(img)\n",
    "    img = tf.cast(img, tf.float32)\n",
    "    img = resnet50.preprocess_input(img)\n",
    "    return img\n",
    "\n",
    "def build_ds(paths, labels=None, shuffle=False):\n",
    "    '''\n",
    "    build tf.data.Dataset from image paths & labels\n",
    "    '''\n",
    "    x = tf.data.Dataset.from_tensor_slices(paths)\n",
    "    x = x.map(decode_keep_size, num_parallel_calls=AUTO)\n",
    "    if labels is not None:\n",
    "        y = tf.data.Dataset.from_tensor_slices(labels)\n",
    "        ds = tf.data.Dataset.zip((x, y))\n",
    "    else:\n",
    "        ds = x\n",
    "    if shuffle:\n",
    "        ds = ds.shuffle(buffer_size=min(10000, len(paths)), seed=42, reshuffle_each_iteration=False)\n",
    "    ds = ds.batch(BATCH).prefetch(AUTO)\n",
    "    return ds\n",
    "\n",
    "# load backbone model from keras applications\n",
    "backbone = resnet50.ResNet50(include_top=False, weights=\"imagenet\", pooling=\"avg\")\n",
    "train_paths, y_train = list_paths_labels(TRAIN_DIR)\n",
    "val_paths,   y_val   = list_paths_labels(VAL_DIR)\n",
    "test_paths,  y_test  = list_paths_labels(TEST_DIR)\n",
    "\n",
    "# build datasets\n",
    "train_ds = build_ds(train_paths, y_train, shuffle=False)\n",
    "val_ds = build_ds(val_paths, y_val, shuffle=False)\n",
    "test_ds = build_ds(test_paths, y_test, shuffle=False)\n",
    "\n",
    "# extract features\n",
    "X_train = backbone.predict(train_ds, verbose=1)\n",
    "X_val = backbone.predict(val_ds, verbose=1)\n",
    "X_test = backbone.predict(test_ds, verbose=1)\n",
    "print(\"Shapes:\", X_train.shape, X_val.shape, X_test.shape)"
   ]
  },
  {
   "cell_type": "markdown",
   "id": "2c2b9ae1",
   "metadata": {},
   "source": [
    "**K-NN Model**"
   ]
  },
  {
   "cell_type": "code",
   "execution_count": null,
   "id": "ebff1dd5",
   "metadata": {},
   "outputs": [],
   "source": []
  }
 ],
 "metadata": {
  "kernelspec": {
   "display_name": ".venv (3.12.3)",
   "language": "python",
   "name": "python3"
  },
  "language_info": {
   "codemirror_mode": {
    "name": "ipython",
    "version": 3
   },
   "file_extension": ".py",
   "mimetype": "text/x-python",
   "name": "python",
   "nbconvert_exporter": "python",
   "pygments_lexer": "ipython3",
   "version": "3.12.3"
  }
 },
 "nbformat": 4,
 "nbformat_minor": 5
}
