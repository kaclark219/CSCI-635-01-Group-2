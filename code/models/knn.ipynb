{
 "cells": [
  {
   "cell_type": "markdown",
   "id": "abc6d611",
   "metadata": {},
   "source": [
    "**Imports & Setup**"
   ]
  },
  {
   "cell_type": "code",
   "execution_count": 21,
   "id": "66d534d7",
   "metadata": {},
   "outputs": [],
   "source": [
    "from pathlib import Path\n",
    "import numpy as np\n",
    "import tensorflow as tf\n",
    "from tensorflow.keras.applications import resnet50\n",
    "from sklearn.preprocessing import StandardScaler, Normalizer\n",
    "from sklearn.model_selection import GridSearchCV, StratifiedKFold\n",
    "from sklearn.neighbors import KNeighborsClassifier\n",
    "from sklearn.metrics import matthews_corrcoef, accuracy_score, classification_report, confusion_matrix, make_scorer\n",
    "from sklearn.pipeline import Pipeline\n",
    "import pandas as pd\n",
    "import matplotlib.pyplot as plt"
   ]
  },
  {
   "cell_type": "code",
   "execution_count": 19,
   "id": "5f4e6327",
   "metadata": {},
   "outputs": [],
   "source": [
    "# directories & file paths\n",
    "TRAIN_DIR = Path(\"../../data/processed_balanced/train\")\n",
    "IMG_DIR = Path(\"../../data/processed\")\n",
    "VAL_DIR   = IMG_DIR / \"validate\"\n",
    "TEST_DIR  = IMG_DIR / \"test\"\n",
    "EXTS = (\".jpg\", \".jpeg\", \".png\", \".bmp\")\n",
    "RESULTS_DIR = Path(\"./results\")\n",
    "RESULTS_PATH = RESULTS_DIR / \"knn_results.csv\"\n",
    "EXTS = (\".jpg\", \".jpeg\", \".png\", \".bmp\")\n",
    "\n",
    "# target styles for classification\n",
    "TARGET_STYLES = [\n",
    "    \"Abstract_Expressionism\",\n",
    "    \"Baroque\",\n",
    "    \"Cubism\",\n",
    "    \"Impressionism\",\n",
    "    \"Pop_Art\"\n",
    "]"
   ]
  },
  {
   "cell_type": "markdown",
   "id": "6891a5e6",
   "metadata": {},
   "source": [
    "**Extracting Features**"
   ]
  },
  {
   "cell_type": "code",
   "execution_count": 10,
   "id": "c44e995b",
   "metadata": {},
   "outputs": [
    {
     "name": "stderr",
     "output_type": "stream",
     "text": [
      "2025-10-28 20:56:15.179871: W external/local_xla/xla/tsl/framework/cpu_allocator_impl.cc:84] Allocation of 268435456 exceeds 10% of free system memory.\n",
      "2025-10-28 20:56:15.330426: W external/local_xla/xla/tsl/framework/cpu_allocator_impl.cc:84] Allocation of 276889600 exceeds 10% of free system memory.\n",
      "2025-10-28 20:56:15.442511: W external/local_xla/xla/tsl/framework/cpu_allocator_impl.cc:84] Allocation of 268435456 exceeds 10% of free system memory.\n",
      "2025-10-28 20:56:15.575881: W external/local_xla/xla/tsl/framework/cpu_allocator_impl.cc:84] Allocation of 268435456 exceeds 10% of free system memory.\n",
      "2025-10-28 20:56:15.822008: W external/local_xla/xla/tsl/framework/cpu_allocator_impl.cc:84] Allocation of 268435456 exceeds 10% of free system memory.\n"
     ]
    },
    {
     "name": "stdout",
     "output_type": "stream",
     "text": [
      "\u001b[1m235/235\u001b[0m \u001b[32m━━━━━━━━━━━━━━━━━━━━\u001b[0m\u001b[37m\u001b[0m \u001b[1m586s\u001b[0m 2s/step\n",
      "\u001b[1m75/75\u001b[0m \u001b[32m━━━━━━━━━━━━━━━━━━━━\u001b[0m\u001b[37m\u001b[0m \u001b[1m184s\u001b[0m 2s/step\n",
      "\u001b[1m75/75\u001b[0m \u001b[32m━━━━━━━━━━━━━━━━━━━━\u001b[0m\u001b[37m\u001b[0m \u001b[1m182s\u001b[0m 2s/step\n",
      "Shapes: (15000, 2048) (4760, 2048) (4761, 2048)\n"
     ]
    }
   ],
   "source": [
    "# config for data loading & feature extraction\n",
    "BATCH = 64\n",
    "AUTO  = tf.data.AUTOTUNE\n",
    "EXPECT_SIZE = (256, 256)\n",
    "STRICT_SIZE = True\n",
    "\n",
    "# mapping from class name to label index\n",
    "CLASS_TO_IDX = {c:i for i,c in enumerate(TARGET_STYLES)}\n",
    "def list_paths_labels(root: Path):\n",
    "    paths, labels = [], []\n",
    "    for cls in TARGET_STYLES:\n",
    "        cls_dir = root / cls\n",
    "        if not cls_dir.exists(): \n",
    "            continue\n",
    "        for p in sorted(cls_dir.rglob(\"*\")):\n",
    "            if p.suffix.lower() in EXTS and p.is_file():\n",
    "                paths.append(str(p))\n",
    "                labels.append(CLASS_TO_IDX[cls])\n",
    "    return np.array(paths), np.array(labels, dtype=np.int32)\n",
    "\n",
    "def decode_keep_size(path):\n",
    "    '''\n",
    "    decode image from path, keep 224 size if STRICT_SIZE is true\n",
    "    '''\n",
    "    img = tf.io.read_file(path)\n",
    "    img = tf.image.decode_image(img, channels=3, expand_animations=False)\n",
    "    img.set_shape([None, None, 3])\n",
    "    if STRICT_SIZE:\n",
    "        shape = tf.shape(img)\n",
    "        assert_op = tf.debugging.assert_equal(shape[:2], EXPECT_SIZE, message=\"Non-224 image found\")\n",
    "        with tf.control_dependencies([assert_op]):\n",
    "            img = tf.identity(img)\n",
    "    img = tf.cast(img, tf.float32)\n",
    "    img = resnet50.preprocess_input(img)\n",
    "    return img\n",
    "\n",
    "def build_ds(paths, labels=None, shuffle=False):\n",
    "    '''\n",
    "    build tf.data.Dataset from image paths & labels\n",
    "    '''\n",
    "    x = tf.data.Dataset.from_tensor_slices(paths)\n",
    "    x = x.map(decode_keep_size, num_parallel_calls=AUTO)\n",
    "    if labels is not None:\n",
    "        y = tf.data.Dataset.from_tensor_slices(labels)\n",
    "        ds = tf.data.Dataset.zip((x, y))\n",
    "    else:\n",
    "        ds = x\n",
    "    if shuffle:\n",
    "        ds = ds.shuffle(buffer_size=min(10000, len(paths)), seed=42, reshuffle_each_iteration=False)\n",
    "    ds = ds.batch(BATCH).prefetch(AUTO)\n",
    "    return ds\n",
    "\n",
    "# load backbone model from keras applications\n",
    "backbone = resnet50.ResNet50(include_top=False, weights=\"imagenet\", pooling=\"avg\")\n",
    "train_paths, y_train = list_paths_labels(TRAIN_DIR)\n",
    "val_paths,   y_val   = list_paths_labels(VAL_DIR)\n",
    "test_paths,  y_test  = list_paths_labels(TEST_DIR)\n",
    "\n",
    "# build datasets\n",
    "train_ds = build_ds(train_paths, y_train, shuffle=False)\n",
    "val_ds = build_ds(val_paths, y_val, shuffle=False)\n",
    "test_ds = build_ds(test_paths, y_test, shuffle=False)\n",
    "\n",
    "# extract features\n",
    "X_train = backbone.predict(train_ds, verbose=1)\n",
    "X_val = backbone.predict(val_ds, verbose=1)\n",
    "X_test = backbone.predict(test_ds, verbose=1)\n",
    "print(\"Shapes:\", X_train.shape, X_val.shape, X_test.shape)"
   ]
  },
  {
   "cell_type": "markdown",
   "id": "2c2b9ae1",
   "metadata": {},
   "source": [
    "**K-NN Model**"
   ]
  },
  {
   "cell_type": "code",
   "execution_count": 24,
   "id": "ebff1dd5",
   "metadata": {},
   "outputs": [
    {
     "name": "stdout",
     "output_type": "stream",
     "text": [
      "Fitting 3 folds for each of 18 candidates, totalling 54 fits\n",
      "Best parameters: {'knn__n_neighbors': 3, 'knn__weights': 'distance'} , Best CV MCC: 0.8893589835643861\n"
     ]
    },
    {
     "data": {
      "image/png": "[encoded data removed]",
      "text/plain": [
       "<Figure size 700x500 with 1 Axes>"
      ]
     },
     "metadata": {},
     "output_type": "display_data"
    },
    {
     "name": "stdout",
     "output_type": "stream",
     "text": [
      "VAL MCC: 0.7431977955806747 , ACCURACY: 0.8222689075630252\n",
      "TEST MCC: 0.7479798154669032 , ACCURACY: 0.8271371560596513\n",
      "\n",
      "Test classification report:\n",
      "                        precision    recall  f1-score   support\n",
      "\n",
      "Abstract_Expressionism       0.77      0.72      0.74       557\n",
      "               Baroque       0.67      0.96      0.79       848\n",
      "                Cubism       0.72      0.81      0.77       447\n",
      "         Impressionism       0.97      0.84      0.90      2612\n",
      "               Pop_Art       0.67      0.60      0.63       297\n",
      "\n",
      "              accuracy                           0.83      4761\n",
      "             macro avg       0.76      0.78      0.76      4761\n",
      "          weighted avg       0.85      0.83      0.83      4761\n",
      "\n",
      "\n",
      "Confusion matrix (test):\n",
      "[[ 400   22   54   27   54]\n",
      " [   2  815    5   26    0]\n",
      " [  28   17  363   17   22]\n",
      " [  34  342   41 2183   12]\n",
      " [  56   16   39    9  177]]\n"
     ]
    }
   ],
   "source": [
    "# hyperparameters for knn grid search\n",
    "K_GRID = [1, 3, 5, 7, 9, 11, 15, 21, 33]\n",
    "RANDOM_STATE = 635\n",
    "\n",
    "# create pipeline for scaling + knn grid\n",
    "pipe = Pipeline([(\"norm\", Normalizer(norm=\"l2\")), (\"knn\", KNeighborsClassifier(metric=\"cosine\", weights=\"distance\", algorithm=\"brute\"))])\n",
    "param_grid = {\"knn__n_neighbors\": K_GRID, \"knn__weights\": [\"uniform\", \"distance\"]}\n",
    "cv = StratifiedKFold(n_splits=3, shuffle=True, random_state=RANDOM_STATE)\n",
    "mcc_scorer = make_scorer(matthews_corrcoef)\n",
    "\n",
    "gs = GridSearchCV(estimator=pipe, param_grid=param_grid, cv=cv, scoring=mcc_scorer, return_train_score=True, n_jobs=-1, verbose=1)\n",
    "gs.fit(X_train, y_train)\n",
    "\n",
    "# save results to csv\n",
    "gs_df = pd.DataFrame(gs.cv_results_).sort_values(\"mean_test_score\", ascending=False)\n",
    "cv_csv = RESULTS_PATH\n",
    "gs_df.to_csv(cv_csv, index=False)\n",
    "print(\"Best parameters:\", gs.best_params_, \", Best CV MCC:\", gs.best_score_)\n",
    "\n",
    "# plot scores of different k values\n",
    "rows = [np.where(gs_df['param_knn__n_neighbors'] == k)[0][0] for k in K_GRID]\n",
    "mean_test = gs_df.iloc[rows][\"mean_test_score\"].values\n",
    "std_test  = gs_df.iloc[rows][\"std_test_score\"].values\n",
    "mean_train = gs_df.iloc[rows][\"mean_train_score\"].values\n",
    "plt.figure(figsize=(7,5))\n",
    "plt.plot(K_GRID, mean_train, marker='o', label='CV Train MCC')\n",
    "plt.errorbar(K_GRID, mean_test, yerr=std_test, marker='o', capsize=4, label='CV Test MCC')\n",
    "plt.xlabel('k (neighbors)')\n",
    "plt.ylabel('MCC')\n",
    "plt.title('k-NN (Pipeline, CV): Train vs Test MCC by k')\n",
    "plt.grid(True)\n",
    "plt.legend()\n",
    "plot_path = RESULTS_DIR / \"knn_plot.png\"\n",
    "plt.savefig(plot_path, bbox_inches='tight', dpi=150)\n",
    "plt.show()\n",
    "\n",
    "# evaluate best k value pipeline on test\n",
    "best_model = gs.best_estimator_\n",
    "val_pred  = best_model.predict(X_val)\n",
    "test_pred = best_model.predict(X_test)\n",
    "\n",
    "# print evaluation metrics\n",
    "print(\"VAL MCC:\", matthews_corrcoef(y_val,  val_pred), \", ACCURACY:\", accuracy_score(y_val,  val_pred))\n",
    "print(\"TEST MCC:\", matthews_corrcoef(y_test, test_pred), \", ACCURACY:\", accuracy_score(y_test, test_pred))\n",
    "print(\"\\nTest classification report:\")\n",
    "print(classification_report(y_test, test_pred, target_names=TARGET_STYLES))\n",
    "print(\"\\nConfusion matrix (test):\")\n",
    "print(confusion_matrix(y_test, test_pred))"
   ]
  }
 ],
 "metadata": {
  "kernelspec": {
   "display_name": ".venv (3.12.3)",
   "language": "python",
   "name": "python3"
  },
  "language_info": {
   "codemirror_mode": {
    "name": "ipython",
    "version": 3
   },
   "file_extension": ".py",
   "mimetype": "text/x-python",
   "name": "python",
   "nbconvert_exporter": "python",
   "pygments_lexer": "ipython3",
   "version": "3.12.3"
  }
 },
 "nbformat": 4,
 "nbformat_minor": 5
}
