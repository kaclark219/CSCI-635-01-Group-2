{
 "cells": [
  {
   "cell_type": "markdown",
   "id": "4811e681",
   "metadata": {},
   "source": [
    "TARGET_STYLES = [\n",
    "    \"Abstract_Expressionism\" (2782),\n",
    "    \"Baroque\" (4240),\n",
    "    \"Cubism\" (2235),\n",
    "    \"Impressionism\" (13.1k),\n",
    "    \"Pop_Art\" (1483)\n",
    "]"
   ]
  }
 ],
 "metadata": {
  "language_info": {
   "name": "python"
  }
 },
 "nbformat": 4,
 "nbformat_minor": 5
}
